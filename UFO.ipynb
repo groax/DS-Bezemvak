{
 "cells": [
  {
   "cell_type": "markdown",
   "metadata": {},
   "source": [
    "# Casusopdracht | UFO\n",
    "\n",
    "### Onderzoeksvragen\n",
    "\n",
    "---\n",
    "\n",
    "**Onderzoeksvraag 1**\n",
    "In hoeverre is er een verband tussen de vorm van de UFO en het land van de waarneming?\n",
    "*    Interactive visualisatie\n",
    "\n",
    "\n",
    "**Onderzoeksvraag 2**\n",
    "Wat is het verband tussen het aantal waarnemingen per 1000 inwoners in de VS en het jaartal?\n",
    "*    Correlatieonderzoek\n",
    "*    Supervised machine learning\n",
    "*    Externe dataset (Link: https://en.wikipedia.org/wiki/Demographic_history_of_the_United_States)\n",
    "\n",
    "\n",
    "**Onderzoeksvraag 3**\n",
    "Hoe beinvloed de tijd van het jaar de hoeveelheid waarnemingen?\n",
    "*    Unsupervised machine learning\n",
    "\n",
    "\n",
    "**Hypothese Z-toets**\n",
    "In een artikel in een Duits dagblad werd onlangs gesteld dat Duitsers met interesse in het bovenmenselijke ondergemiddeld actief zijn op internet (ten opzichte van andere nationaliteiten), omdat er een grote UFO-vereniging bestaat die de noodzaak voor online delen van informatie wegneemt.\n",
    "Onderzoek met de dataset of Duitsers minder tijd op de website doorbrengen dan gemiddeld (zie de volledige dataset als populatie). Neem als betrouwbaarheid 90%."
   ]
  },
  {
   "cell_type": "markdown",
   "metadata": {},
   "source": [
    "# Data collection\n",
    "\n",
    "---\n",
    "\n",
    "In dit onderdeel lopen we door de data die wij hebben verzameld en gaan gebruiken in ons Notebook.\n",
    "Wij gebruiken de meegegeven dataset die de UFO waarnemingen bevat en een externe dataset met de populatie van de US.\n",
    "\n",
    "Door het gebruik van de externe dataset hopen wij een verband te kunnen leggen tussen het aantal waarnemingen (per 1000 inwoners) in de US en het jaartal.\n",
    "\n",
    "### De UFO dataset bevat:\n",
    "*    **Datetime:**<br>\n",
    "    De dag en tijd waarop de waarneming plaatsvond.\n",
    "*    **City:**<br>\n",
    "    De stad waar de waarneming plaatsvond.\n",
    "*    **State:**<br>\n",
    "    De staat waar de waarneming plaatsvond.\n",
    "*    **Country:**<br>\n",
    "    Het land waar de waarneming plaatsvond.\n",
    "*    **Shape:**<br>\n",
    "    De vorm van het waargenomen object.\n",
    "*    **Duration (seconds):**<br>\n",
    "    De lengte in seconden van de waarneming.\n",
    "*    **Duration (hours/min):**<br>\n",
    "    De lengte in uren en minuten van de waarneming.<br>\n",
    "    (Dit wordt niet consequent genoteerd, bijvoorbeeld 45 minutes of 1-2 hrs)\n",
    "*    **Comments:**<br>\n",
    "    Extra uitleg en informatie over de waarneming\n",
    "*    **Date posted:**<br>\n",
    "    De datum waarop de waarneming op de website is geplaatst.\n",
    "*    **Latitude:**<br>\n",
    "    De breedtegraad van de locatie waarop de waarneming plaatsvond.\n",
    "*    **longitude:**<br>\n",
    "    De lengtegraad van de locatie waarop de waarneming plaatsvond.\n",
    "*    **Visit (seconds):**<br>\n",
    "    De lengte in seconden van het bezoek op de website.\n",
    "    \n",
    "    \n",
    "### De externa dataset bevat:\n",
    "*    **Year:**<br>\n",
    "    Het jaar.\n",
    "*    **Population:**<br>\n",
    "    De populatie van de US."
   ]
  },
  {
   "cell_type": "markdown",
   "metadata": {},
   "source": [
    "### Bibliotheken Importeren\n",
    "\n",
    "---\n",
    "\n",
    "Vervolgens importeren wij de bibliotheken die in het gehele Notebook worden gebruikt.\n",
    "Numpy voor de efficientere berekeningen in python, Datetime voor het gemakkelijk werken met data, Pandas voor het weergeven en structureren van onze datasets en SciPy voor het machine learning.\n",
    "Daarnaast gebruiken wij onderandere MatPlotLib en SeaBorn voor het visualiseren van onze data."
   ]
  },
  {
   "cell_type": "code",
   "execution_count": 2,
   "metadata": {},
   "outputs": [],
   "source": [
    "# data analyse bibliotheken\n",
    "import numpy as np\n",
    "import pandas as pd\n",
    "from datetime import datetime\n",
    "import scipy as sp\n",
    "from scipy import stats\n",
    "\n",
    "# visualisatie bibliotheken\n",
    "import matplotlib.pyplot as plt\n",
    "import seaborn as sns"
   ]
  },
  {
   "cell_type": "markdown",
   "metadata": {},
   "source": [
    "# Data Processing\n",
    "\n",
    "---\n",
    "\n",
    "Nu gaan wij de datasets inladen in een Pandas dataframe.\n",
    "Dit maakt het eenvoudig de data te tonen en vervolgens te verwerken.\n",
    "Ook tonen wij de eerste 5 rijen van de data om te kijken of deze correct is ingeladen."
   ]
  },
  {
   "cell_type": "code",
   "execution_count": 34,
   "metadata": {},
   "outputs": [
    {
     "data": {
      "text/html": [
       "<div>\n",
       "<style scoped>\n",
       "    .dataframe tbody tr th:only-of-type {\n",
       "        vertical-align: middle;\n",
       "    }\n",
       "\n",
       "    .dataframe tbody tr th {\n",
       "        vertical-align: top;\n",
       "    }\n",
       "\n",
       "    .dataframe thead th {\n",
       "        text-align: right;\n",
       "    }\n",
       "</style>\n",
       "<table border=\"1\" class=\"dataframe\">\n",
       "  <thead>\n",
       "    <tr style=\"text-align: right;\">\n",
       "      <th></th>\n",
       "      <th>datetime</th>\n",
       "      <th>city</th>\n",
       "      <th>state</th>\n",
       "      <th>country</th>\n",
       "      <th>shape</th>\n",
       "      <th>duration (seconds)</th>\n",
       "      <th>duration (hours/min)</th>\n",
       "      <th>comments</th>\n",
       "      <th>date posted</th>\n",
       "      <th>latitude</th>\n",
       "      <th>longitude</th>\n",
       "      <th>visit (seconds)</th>\n",
       "    </tr>\n",
       "  </thead>\n",
       "  <tbody>\n",
       "    <tr>\n",
       "      <td>0</td>\n",
       "      <td>10/10/1949 20:30</td>\n",
       "      <td>san marcos</td>\n",
       "      <td>tx</td>\n",
       "      <td>us</td>\n",
       "      <td>cylinder</td>\n",
       "      <td>2700</td>\n",
       "      <td>45 minutes</td>\n",
       "      <td>This event took place in early fall around 194...</td>\n",
       "      <td>4/27/2004</td>\n",
       "      <td>29.8830556</td>\n",
       "      <td>-97.941111</td>\n",
       "      <td>255</td>\n",
       "    </tr>\n",
       "    <tr>\n",
       "      <td>1</td>\n",
       "      <td>10/10/1949 21:00</td>\n",
       "      <td>lackland afb</td>\n",
       "      <td>tx</td>\n",
       "      <td>NaN</td>\n",
       "      <td>light</td>\n",
       "      <td>7200</td>\n",
       "      <td>1-2 hrs</td>\n",
       "      <td>1949 Lackland AFB&amp;#44 TX.  Lights racing acros...</td>\n",
       "      <td>12/16/2005</td>\n",
       "      <td>29.38421</td>\n",
       "      <td>-98.581082</td>\n",
       "      <td>307</td>\n",
       "    </tr>\n",
       "    <tr>\n",
       "      <td>2</td>\n",
       "      <td>10/10/1955 17:00</td>\n",
       "      <td>chester (uk/england)</td>\n",
       "      <td>NaN</td>\n",
       "      <td>gb</td>\n",
       "      <td>circle</td>\n",
       "      <td>20</td>\n",
       "      <td>20 seconds</td>\n",
       "      <td>Green/Orange circular disc over Chester&amp;#44 En...</td>\n",
       "      <td>1/21/2008</td>\n",
       "      <td>53.2</td>\n",
       "      <td>-2.916667</td>\n",
       "      <td>280</td>\n",
       "    </tr>\n",
       "    <tr>\n",
       "      <td>3</td>\n",
       "      <td>10/10/1956 21:00</td>\n",
       "      <td>edna</td>\n",
       "      <td>tx</td>\n",
       "      <td>us</td>\n",
       "      <td>circle</td>\n",
       "      <td>20</td>\n",
       "      <td>1/2 hour</td>\n",
       "      <td>My older brother and twin sister were leaving ...</td>\n",
       "      <td>1/17/2004</td>\n",
       "      <td>28.9783333</td>\n",
       "      <td>-96.645833</td>\n",
       "      <td>202</td>\n",
       "    </tr>\n",
       "    <tr>\n",
       "      <td>4</td>\n",
       "      <td>10/10/1960 20:00</td>\n",
       "      <td>kaneohe</td>\n",
       "      <td>hi</td>\n",
       "      <td>us</td>\n",
       "      <td>light</td>\n",
       "      <td>900</td>\n",
       "      <td>15 minutes</td>\n",
       "      <td>AS a Marine 1st Lt. flying an FJ4B fighter/att...</td>\n",
       "      <td>1/22/2004</td>\n",
       "      <td>21.4180556</td>\n",
       "      <td>-157.803611</td>\n",
       "      <td>255</td>\n",
       "    </tr>\n",
       "  </tbody>\n",
       "</table>\n",
       "</div>"
      ],
      "text/plain": [
       "           datetime                  city state country     shape  \\\n",
       "0  10/10/1949 20:30            san marcos    tx      us  cylinder   \n",
       "1  10/10/1949 21:00          lackland afb    tx     NaN     light   \n",
       "2  10/10/1955 17:00  chester (uk/england)   NaN      gb    circle   \n",
       "3  10/10/1956 21:00                  edna    tx      us    circle   \n",
       "4  10/10/1960 20:00               kaneohe    hi      us     light   \n",
       "\n",
       "  duration (seconds) duration (hours/min)  \\\n",
       "0               2700           45 minutes   \n",
       "1               7200              1-2 hrs   \n",
       "2                 20           20 seconds   \n",
       "3                 20             1/2 hour   \n",
       "4                900           15 minutes   \n",
       "\n",
       "                                            comments date posted    latitude  \\\n",
       "0  This event took place in early fall around 194...   4/27/2004  29.8830556   \n",
       "1  1949 Lackland AFB&#44 TX.  Lights racing acros...  12/16/2005    29.38421   \n",
       "2  Green/Orange circular disc over Chester&#44 En...   1/21/2008        53.2   \n",
       "3  My older brother and twin sister were leaving ...   1/17/2004  28.9783333   \n",
       "4  AS a Marine 1st Lt. flying an FJ4B fighter/att...   1/22/2004  21.4180556   \n",
       "\n",
       "    longitude  visit (seconds)  \n",
       "0  -97.941111              255  \n",
       "1  -98.581082              307  \n",
       "2   -2.916667              280  \n",
       "3  -96.645833              202  \n",
       "4 -157.803611              255  "
      ]
     },
     "execution_count": 34,
     "metadata": {},
     "output_type": "execute_result"
    }
   ],
   "source": [
    "dataUfo = pd.read_csv(\"datasets/ufo.csv\",\n",
    "                index_col = 0)\n",
    "dataUfo.head()"
   ]
  },
  {
   "cell_type": "markdown",
   "metadata": {},
   "source": [
    "En dan nogmaals hetzelfde proces, maar nu voor de populatie dataset."
   ]
  },
  {
   "cell_type": "code",
   "execution_count": 4,
   "metadata": {},
   "outputs": [
    {
     "data": {
      "text/html": [
       "<div>\n",
       "<style scoped>\n",
       "    .dataframe tbody tr th:only-of-type {\n",
       "        vertical-align: middle;\n",
       "    }\n",
       "\n",
       "    .dataframe tbody tr th {\n",
       "        vertical-align: top;\n",
       "    }\n",
       "\n",
       "    .dataframe thead th {\n",
       "        text-align: right;\n",
       "    }\n",
       "</style>\n",
       "<table border=\"1\" class=\"dataframe\">\n",
       "  <thead>\n",
       "    <tr style=\"text-align: right;\">\n",
       "      <th></th>\n",
       "      <th>year</th>\n",
       "      <th>population</th>\n",
       "    </tr>\n",
       "  </thead>\n",
       "  <tbody>\n",
       "    <tr>\n",
       "      <td>0</td>\n",
       "      <td>1610</td>\n",
       "      <td>350</td>\n",
       "    </tr>\n",
       "    <tr>\n",
       "      <td>1</td>\n",
       "      <td>1620</td>\n",
       "      <td>2302</td>\n",
       "    </tr>\n",
       "    <tr>\n",
       "      <td>2</td>\n",
       "      <td>1630</td>\n",
       "      <td>4646</td>\n",
       "    </tr>\n",
       "    <tr>\n",
       "      <td>3</td>\n",
       "      <td>1640</td>\n",
       "      <td>26634</td>\n",
       "    </tr>\n",
       "    <tr>\n",
       "      <td>4</td>\n",
       "      <td>1650</td>\n",
       "      <td>50368</td>\n",
       "    </tr>\n",
       "  </tbody>\n",
       "</table>\n",
       "</div>"
      ],
      "text/plain": [
       "   year  population\n",
       "0  1610         350\n",
       "1  1620        2302\n",
       "2  1630        4646\n",
       "3  1640       26634\n",
       "4  1650       50368"
      ]
     },
     "execution_count": 4,
     "metadata": {},
     "output_type": "execute_result"
    }
   ],
   "source": [
    "dataPop = pd.read_csv('datasets/population.csv')\n",
    "dataPop.head()"
   ]
  },
  {
   "cell_type": "markdown",
   "metadata": {},
   "source": [
    "# Data cleaning\n",
    "\n",
    "---\n",
    "\n",
    "Om de data goed te kunnen opschonen is het van belang eerst even goed naar de data te kijken.\n",
    "Dit houdt in dat we kijken naar de waarden, of belangrijker, de ontbrekende en foutieve waarden: Null en NaN."
   ]
  },
  {
   "cell_type": "code",
   "execution_count": 5,
   "metadata": {
    "scrolled": false
   },
   "outputs": [
    {
     "name": "stdout",
     "output_type": "stream",
     "text": [
      "Heeft de Ufo dataset missende waarden?  True \n",
      "\n",
      "Heeft de Population dataset missende waarden?  False \n",
      "\n"
     ]
    }
   ],
   "source": [
    "# Een check om te kijken of we de datasets missende waarden bevatten.\n",
    "print (\"Heeft de Ufo dataset missende waarden? \", dataUfo.isnull().values.any(), '\\n')\n",
    "print (\"Heeft de Population dataset missende waarden? \", dataPop.isnull().values.any(), '\\n')"
   ]
  },
  {
   "cell_type": "markdown",
   "metadata": {},
   "source": [
    "We kunnen hieruit concluderen dat de UFO dataset inderdaad missende waarden bevat.\n",
    "Daarom gaan we de data iets beter onderzoeken om te kijken wat deze waarden daadwerkelijk zijn, wat ze zouden moeten representateren en of ze überhaupt van belang zijn."
   ]
  },
  {
   "cell_type": "code",
   "execution_count": 25,
   "metadata": {},
   "outputs": [],
   "source": [
    "# Pas de optie aan om alle rijen tonen.\n",
    "pd.set_option('display.max_rows', None)"
   ]
  },
  {
   "cell_type": "code",
   "execution_count": 29,
   "metadata": {},
   "outputs": [
    {
     "data": {
      "text/plain": [
       "datetime                    0\n",
       "city                        0\n",
       "state                    7409\n",
       "country                 12365\n",
       "shape                    2922\n",
       "duration (seconds)          2\n",
       "duration (hours/min)     3019\n",
       "comments                   35\n",
       "date posted                 0\n",
       "latitude                    0\n",
       "longitude                   0\n",
       "visit (seconds)             0\n",
       "dtype: int64"
      ]
     },
     "execution_count": 29,
     "metadata": {},
     "output_type": "execute_result"
    }
   ],
   "source": [
    "dataUfo.isnull().sum()"
   ]
  },
  {
   "cell_type": "code",
   "execution_count": 27,
   "metadata": {},
   "outputs": [],
   "source": [
    "# Reset de optie om alle rijen te tonen, aangezien dit een erg dure operatie is.\n",
    "pd.reset_option(\"display.max_rows\")"
   ]
  },
  {
   "cell_type": "code",
   "execution_count": 31,
   "metadata": {},
   "outputs": [
    {
     "name": "stdout",
     "output_type": "stream",
     "text": [
      "In totaal missen er 25752 gegevens in de UFO dataset.\n",
      "\n"
     ]
    }
   ],
   "source": [
    "print (\"In totaal missen er\", dataUfo.isnull().sum().sum(), \"gegevens in de UFO dataset.\" '\\n')"
   ]
  },
  {
   "cell_type": "markdown",
   "metadata": {},
   "source": [
    "Voordat we de rijen met null-waarden verwijderen, is het van belang eerst te kijken of deze null-waarden een probleem vormen.\n",
    "\n",
    "Ten eerste de null waarden in de kolom 'State'.\n",
    "Als je erover nadenkt is het vrij logisch dat er veel rijen zonder staat bestaan: alleen de waarnemingen binnen de US hebben immers een staat.\n",
    "Nu weten we dus dat we de 'State' kolom alleen nuttig kunnen gebruiken bij het eventueel visualiseren van **Onderzoeksvraag 2**, omdat deze alleen de waarnemingen binnen de US benut.\n",
    "\n",
    "Vervolgens kijken we naar de missende waarden in de kolom 'Duration (hours/min)'.\n",
    "Er missen veel waarden in deze kolom, maar dat zou geen ramp moeten zijn.\n",
    "We hebben immers ook een kolom met de lengte van de waarnemingen in seconden.\n",
    "Daardoor kunnen we besluiten de kolom 'Duration (hours/min)' te negeren en in plaats daarvan altijd de kolom 'Duration (seconds)' gebruiken, zou dit nodig zijn.\n",
    "\n",
    "Ook zien we veel null-waarden in de kolommen 'Country' en 'Shape'.\n",
    "Dit zijn echter belangrijke kolommen voor onze onderzoeksvragen, dus de waarnemingen die deze waarden niet bevatten zijn vrijwel nutteloos voor het beantwoorden van deze vragen.\n",
    "De rijen met missende waarden in deze kolommen zullen dus verwijderd moeten worden.\n",
    "\n",
    "\n",
    "Nu we in kaart hebben gebracht waar de null-waarden liggen, is het belangrijk hier iets mee te doen.\n",
    "Naast het droppen van de kolom 'Duration (hours/min)' vanwege de null-waarden, zijn er nog andere kolommen die niet nuttig zijn voor het beantwoorden van onze onderzoeksvragen:\n",
    "*    **Visit (seconds)**<br>\n",
    "    Deze kolom geeft geen informatie over de waarneming zelf, maar over het gebruik van de website.<br>\n",
    "    Niet relevant voor ons onderzoek.\n",
    "*    **Comments**<br>\n",
    "    Deze kolom bevat veel informatie over de waarnemingen, maar is te uitgebreid om duidelijk te categoriseren.\n",
    "*    **Duration (hours/min)**<br>\n",
    "    Deze kolom bevat geen waarden die relevant zijn voor het beantwoorden van onze onderzoeksvragen.\n",
    "*    **Date posted**<br>\n",
    "    Deze kolom geeft geen informatie over de waarneming zelf, maar over het gebruik van de website.<br>\n",
    "    Niet relevant voor ons onderzoek."
   ]
  },
  {
   "cell_type": "code",
   "execution_count": 35,
   "metadata": {},
   "outputs": [
    {
     "data": {
      "text/html": [
       "<div>\n",
       "<style scoped>\n",
       "    .dataframe tbody tr th:only-of-type {\n",
       "        vertical-align: middle;\n",
       "    }\n",
       "\n",
       "    .dataframe tbody tr th {\n",
       "        vertical-align: top;\n",
       "    }\n",
       "\n",
       "    .dataframe thead th {\n",
       "        text-align: right;\n",
       "    }\n",
       "</style>\n",
       "<table border=\"1\" class=\"dataframe\">\n",
       "  <thead>\n",
       "    <tr style=\"text-align: right;\">\n",
       "      <th></th>\n",
       "      <th>datetime</th>\n",
       "      <th>city</th>\n",
       "      <th>state</th>\n",
       "      <th>country</th>\n",
       "      <th>shape</th>\n",
       "      <th>latitude</th>\n",
       "      <th>longitude</th>\n",
       "    </tr>\n",
       "  </thead>\n",
       "  <tbody>\n",
       "    <tr>\n",
       "      <td>0</td>\n",
       "      <td>10/10/1949 20:30</td>\n",
       "      <td>san marcos</td>\n",
       "      <td>tx</td>\n",
       "      <td>us</td>\n",
       "      <td>cylinder</td>\n",
       "      <td>29.8830556</td>\n",
       "      <td>-97.941111</td>\n",
       "    </tr>\n",
       "    <tr>\n",
       "      <td>1</td>\n",
       "      <td>10/10/1949 21:00</td>\n",
       "      <td>lackland afb</td>\n",
       "      <td>tx</td>\n",
       "      <td>NaN</td>\n",
       "      <td>light</td>\n",
       "      <td>29.38421</td>\n",
       "      <td>-98.581082</td>\n",
       "    </tr>\n",
       "    <tr>\n",
       "      <td>2</td>\n",
       "      <td>10/10/1955 17:00</td>\n",
       "      <td>chester (uk/england)</td>\n",
       "      <td>NaN</td>\n",
       "      <td>gb</td>\n",
       "      <td>circle</td>\n",
       "      <td>53.2</td>\n",
       "      <td>-2.916667</td>\n",
       "    </tr>\n",
       "    <tr>\n",
       "      <td>3</td>\n",
       "      <td>10/10/1956 21:00</td>\n",
       "      <td>edna</td>\n",
       "      <td>tx</td>\n",
       "      <td>us</td>\n",
       "      <td>circle</td>\n",
       "      <td>28.9783333</td>\n",
       "      <td>-96.645833</td>\n",
       "    </tr>\n",
       "    <tr>\n",
       "      <td>4</td>\n",
       "      <td>10/10/1960 20:00</td>\n",
       "      <td>kaneohe</td>\n",
       "      <td>hi</td>\n",
       "      <td>us</td>\n",
       "      <td>light</td>\n",
       "      <td>21.4180556</td>\n",
       "      <td>-157.803611</td>\n",
       "    </tr>\n",
       "  </tbody>\n",
       "</table>\n",
       "</div>"
      ],
      "text/plain": [
       "           datetime                  city state country     shape    latitude  \\\n",
       "0  10/10/1949 20:30            san marcos    tx      us  cylinder  29.8830556   \n",
       "1  10/10/1949 21:00          lackland afb    tx     NaN     light    29.38421   \n",
       "2  10/10/1955 17:00  chester (uk/england)   NaN      gb    circle        53.2   \n",
       "3  10/10/1956 21:00                  edna    tx      us    circle  28.9783333   \n",
       "4  10/10/1960 20:00               kaneohe    hi      us     light  21.4180556   \n",
       "\n",
       "    longitude  \n",
       "0  -97.941111  \n",
       "1  -98.581082  \n",
       "2   -2.916667  \n",
       "3  -96.645833  \n",
       "4 -157.803611  "
      ]
     },
     "execution_count": 35,
     "metadata": {},
     "output_type": "execute_result"
    }
   ],
   "source": [
    "# Drop te kolommen die niet bruikbaar zijn in ons onderzoek.\n",
    "drop_list = ['visit (seconds)', 'duration (seconds)', 'comments', 'duration (hours/min)', 'date posted']\n",
    "dataUfo.drop(drop_list, axis = 1, inplace = True)\n",
    "dataUfo.head()"
   ]
  },
  {
   "cell_type": "markdown",
   "metadata": {},
   "source": [
    "Nu gaan we nogmaals kijken hoeveel null-waarden we overhouden:"
   ]
  },
  {
   "cell_type": "code",
   "execution_count": 36,
   "metadata": {},
   "outputs": [
    {
     "name": "stdout",
     "output_type": "stream",
     "text": [
      "In totaal missen er 22696 gegevens in de UFO dataset.\n",
      "\n"
     ]
    }
   ],
   "source": [
    "print (\"In totaal missen er\", dataUfo.isnull().sum().sum(), \"gegevens in de UFO dataset.\" '\\n')"
   ]
  },
  {
   "cell_type": "markdown",
   "metadata": {},
   "source": [
    "Dit is al een prima verbetering.\n",
    "De overige null-waarden zullen per onderzoeksvraag moeten worden bekeken, omdat deze niet voor elke vraag van belang zijn.\n",
    "Bijvoorbeeld de waarnemingen zonder vorm hoeven alleen verwijderd te worden voor **Onderzoeksvraag 1**, maar kunnen prima gebruikt worden voor het beantwoorden van de andere onderzoeksvragen."
   ]
  },
  {
   "cell_type": "markdown",
   "metadata": {},
   "source": [
    "### Datatypen\n",
    "\n",
    "---\n",
    "\n",
    "Om gemakkelijk met de data te kunnen werken, is het handig om de datatypen van de kolommen juist aan te geven.\n",
    "Bijvoorbeeld 'Latitude' en 'Longitude' naar floats en 'Datetime' naar een datatime.\n",
    "De overige kolommen zetten we om naar het datatype 'category', wat inhoudt dat er maar een gelimiteerd aantal opties zijn."
   ]
  },
  {
   "cell_type": "code",
   "execution_count": 11,
   "metadata": {},
   "outputs": [
    {
     "data": {
      "text/plain": [
       "datetime      object\n",
       "city          object\n",
       "state         object\n",
       "country       object\n",
       "shape         object\n",
       "latitude      object\n",
       "longitude    float64\n",
       "dtype: object"
      ]
     },
     "execution_count": 11,
     "metadata": {},
     "output_type": "execute_result"
    }
   ],
   "source": [
    "dataUfo.dtypes"
   ]
  },
  {
   "cell_type": "code",
   "execution_count": 43,
   "metadata": {},
   "outputs": [
    {
     "data": {
      "text/plain": [
       "datetime     datetime64[ns]\n",
       "city               category\n",
       "state              category\n",
       "country            category\n",
       "shape              category\n",
       "latitude            float64\n",
       "longitude           float64\n",
       "dtype: object"
      ]
     },
     "execution_count": 43,
     "metadata": {},
     "output_type": "execute_result"
    }
   ],
   "source": [
    "# Zet datatype van latitude en longitude naar float.\n",
    "dataUfo['latitude'] = pd.to_numeric(dataUfo['latitude'], errors='coerce').astype(float);\n",
    "dataUfo['longitude'] = pd.to_numeric(dataUfo['longitude'], errors='coerce').astype(float);\n",
    "\n",
    "# Zet datatype van datetime naar datetime.\n",
    "dataUfo['datetime'] = pd.to_datetime(dataUfo['datetime'],\n",
    "                                    format=\"%m/%d/%Y %H:%M\",\n",
    "                                   errors='coerce')\n",
    "\n",
    "# Zet datatype van overige kolommen naar category.\n",
    "dataUfo = dataUfo.astype({'city': 'category',\n",
    "                        'state': 'category',\n",
    "                        'country': 'category',\n",
    "                        'shape': 'category'\n",
    "                       })\n",
    "\n",
    "dataUfo.dtypes"
   ]
  },
  {
   "cell_type": "markdown",
   "metadata": {},
   "source": [
    "# Data Exploration & Analysis\n",
    "\n",
    "---\n",
    "\n",
    "In deze stap gaan we eerst de dataset verder analyseren."
   ]
  },
  {
   "cell_type": "code",
   "execution_count": 45,
   "metadata": {},
   "outputs": [
    {
     "name": "stdout",
     "output_type": "stream",
     "text": [
      "<class 'pandas.core.frame.DataFrame'>\n",
      "Int64Index: 88679 entries, 0 to 88678\n",
      "Data columns (total 7 columns):\n",
      "datetime     87459 non-null datetime64[ns]\n",
      "city         88679 non-null category\n",
      "state        81270 non-null category\n",
      "country      76314 non-null category\n",
      "shape        85757 non-null category\n",
      "latitude     88678 non-null float64\n",
      "longitude    88679 non-null float64\n",
      "dtypes: category(4), datetime64[ns](1), float64(2)\n",
      "memory usage: 3.9 MB\n",
      "None\n"
     ]
    }
   ],
   "source": [
    "print(dataUfo.info())"
   ]
  },
  {
   "cell_type": "code",
   "execution_count": null,
   "metadata": {},
   "outputs": [],
   "source": []
  },
  {
   "cell_type": "code",
   "execution_count": null,
   "metadata": {},
   "outputs": [],
   "source": []
  },
  {
   "cell_type": "code",
   "execution_count": null,
   "metadata": {},
   "outputs": [],
   "source": []
  },
  {
   "cell_type": "code",
   "execution_count": null,
   "metadata": {},
   "outputs": [],
   "source": []
  },
  {
   "cell_type": "markdown",
   "metadata": {},
   "source": [
    "### Opgeschoond dataframepie ufo's"
   ]
  },
  {
   "cell_type": "code",
   "execution_count": 13,
   "metadata": {
    "scrolled": false
   },
   "outputs": [
    {
     "data": {
      "text/plain": [
       "<matplotlib.axes._subplots.AxesSubplot at 0x1919889f488>"
      ]
     },
     "execution_count": 13,
     "metadata": {},
     "output_type": "execute_result"
    },
    {
     "data": {
      "image/png": "[encoded data removed]",
      "text/plain": [
       "<Figure size 432x288 with 2 Axes>"
      ]
     },
     "metadata": {
      "needs_background": "light"
     },
     "output_type": "display_data"
    }
   ],
   "source": [
    "rng = np.random.RandomState(0)\n",
    "colors = rng.rand(71279)\n",
    "sizes = 10 * rng.rand()\n",
    "\n",
    "dataUfo.plot.scatter(x='longitude', y='latitude', c=colors, s=sizes, alpha=0.3, cmap='viridis')\n",
    "\n"
   ]
  },
  {
   "cell_type": "markdown",
   "metadata": {},
   "source": [
    "### USA population en jaartal vanaf 1940"
   ]
  },
  {
   "cell_type": "code",
   "execution_count": 14,
   "metadata": {},
   "outputs": [
    {
     "data": {
      "text/html": [
       "<div>\n",
       "<style scoped>\n",
       "    .dataframe tbody tr th:only-of-type {\n",
       "        vertical-align: middle;\n",
       "    }\n",
       "\n",
       "    .dataframe tbody tr th {\n",
       "        vertical-align: top;\n",
       "    }\n",
       "\n",
       "    .dataframe thead th {\n",
       "        text-align: right;\n",
       "    }\n",
       "</style>\n",
       "<table border=\"1\" class=\"dataframe\">\n",
       "  <thead>\n",
       "    <tr style=\"text-align: right;\">\n",
       "      <th></th>\n",
       "      <th>year</th>\n",
       "      <th>population</th>\n",
       "    </tr>\n",
       "  </thead>\n",
       "  <tbody>\n",
       "    <tr>\n",
       "      <td>33</td>\n",
       "      <td>1940</td>\n",
       "      <td>132164569</td>\n",
       "    </tr>\n",
       "    <tr>\n",
       "      <td>34</td>\n",
       "      <td>1950</td>\n",
       "      <td>151325798</td>\n",
       "    </tr>\n",
       "    <tr>\n",
       "      <td>35</td>\n",
       "      <td>1960</td>\n",
       "      <td>179323175</td>\n",
       "    </tr>\n",
       "    <tr>\n",
       "      <td>36</td>\n",
       "      <td>1970</td>\n",
       "      <td>203211926</td>\n",
       "    </tr>\n",
       "    <tr>\n",
       "      <td>37</td>\n",
       "      <td>1980</td>\n",
       "      <td>226545805</td>\n",
       "    </tr>\n",
       "    <tr>\n",
       "      <td>38</td>\n",
       "      <td>1990</td>\n",
       "      <td>248709873</td>\n",
       "    </tr>\n",
       "    <tr>\n",
       "      <td>39</td>\n",
       "      <td>2000</td>\n",
       "      <td>281421906</td>\n",
       "    </tr>\n",
       "    <tr>\n",
       "      <td>40</td>\n",
       "      <td>2010</td>\n",
       "      <td>308745538</td>\n",
       "    </tr>\n",
       "    <tr>\n",
       "      <td>41</td>\n",
       "      <td>2020</td>\n",
       "      <td>332639000</td>\n",
       "    </tr>\n",
       "  </tbody>\n",
       "</table>\n",
       "</div>"
      ],
      "text/plain": [
       "    year  population\n",
       "33  1940   132164569\n",
       "34  1950   151325798\n",
       "35  1960   179323175\n",
       "36  1970   203211926\n",
       "37  1980   226545805\n",
       "38  1990   248709873\n",
       "39  2000   281421906\n",
       "40  2010   308745538\n",
       "41  2020   332639000"
      ]
     },
     "execution_count": 14,
     "metadata": {},
     "output_type": "execute_result"
    }
   ],
   "source": [
    "dataPop = dataPop[dataPop['year'] >= 1940]\n",
    "dataPop"
   ]
  },
  {
   "cell_type": "markdown",
   "metadata": {},
   "source": [
    "#### Visualiseren"
   ]
  },
  {
   "cell_type": "code",
   "execution_count": 15,
   "metadata": {},
   "outputs": [
    {
     "data": {
      "text/plain": [
       "Text(0, 0.5, 'Bevolking in hondermiljoenen')"
      ]
     },
     "execution_count": 15,
     "metadata": {},
     "output_type": "execute_result"
    },
    {
     "data": {
      "image/png": "[encoded data removed]",
      "text/plain": [
       "<Figure size 432x288 with 1 Axes>"
      ]
     },
     "metadata": {
      "needs_background": "light"
     },
     "output_type": "display_data"
    }
   ],
   "source": [
    "ax = dataPop.plot(x='year', y='population')\n",
    "ax.set_xlabel('Jaartal')\n",
    "ax.set_ylabel('Bevolking in hondermiljoenen')"
   ]
  },
  {
   "cell_type": "markdown",
   "metadata": {},
   "source": [
    "## Wat is het verband tussen het aantal waarnemingen per 1000 inwoners in de VS en het jaartal?"
   ]
  },
  {
   "cell_type": "code",
   "execution_count": 16,
   "metadata": {},
   "outputs": [
    {
     "data": {
      "text/plain": [
       "<matplotlib.axes._subplots.AxesSubplot at 0x19198b95088>"
      ]
     },
     "execution_count": 16,
     "metadata": {},
     "output_type": "execute_result"
    },
    {
     "data": {
      "image/png": "[encoded data removed]",
      "text/plain": [
       "<Figure size 432x288 with 1 Axes>"
      ]
     },
     "metadata": {
      "needs_background": "light"
     },
     "output_type": "display_data"
    }
   ],
   "source": [
    "dataUfo = dataUfo[dataUfo.country == 'us']\n",
    "dataUfo.plot.scatter(x='longitude', y='latitude')"
   ]
  },
  {
   "cell_type": "code",
   "execution_count": null,
   "metadata": {},
   "outputs": [],
   "source": []
  }
 ],
 "metadata": {
  "kernelspec": {
   "display_name": "Python 3",
   "language": "python",
   "name": "python3"
  },
  "language_info": {
   "codemirror_mode": {
    "name": "ipython",
    "version": 3
   },
   "file_extension": ".py",
   "mimetype": "text/x-python",
   "name": "python",
   "nbconvert_exporter": "python",
   "pygments_lexer": "ipython3",
   "version": "3.7.4"
  }
 },
 "nbformat": 4,
 "nbformat_minor": 4
}
